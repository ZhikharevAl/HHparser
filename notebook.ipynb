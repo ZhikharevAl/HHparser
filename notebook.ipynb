{
 "cells": [
  {
   "cell_type": "code",
   "metadata": {
    "collapsed": true,
    "ExecuteTime": {
     "start_time": "2023-04-10T18:20:54.504687Z",
     "end_time": "2023-04-10T18:20:54.536902Z"
    }
   },
   "source": [
    "import pandas as pd"
   ],
   "execution_count": 34,
   "outputs": []
  },
  {
   "cell_type": "markdown",
   "source": [],
   "metadata": {
    "collapsed": false
   }
  },
  {
   "cell_type": "code",
   "execution_count": 35,
   "outputs": [],
   "source": [
    "df = pd.read_csv(r\"C:\\Users\\1\\PycharmProjects\\HHparser\\QA.csv\")"
   ],
   "metadata": {
    "collapsed": false,
    "ExecuteTime": {
     "start_time": "2023-04-10T18:20:54.511741Z",
     "end_time": "2023-04-10T18:20:54.565504Z"
    }
   }
  },
  {
   "cell_type": "code",
   "execution_count": 36,
   "outputs": [
    {
     "data": {
      "text/plain": "   Unnamed: 0        id  premium                          name department   \n0           0  78174707    False       QA Engineer/Тестировщик        NaN  \\\n1           1  79089868    False             QA Manual Trainee        NaN   \n2           2  79098994    False  Тестировщик ПО / QA engineer        NaN   \n3           3  79076732    False      Junior QA/Тестировщик ПО        NaN   \n4           4  78585586    False                       Lead QA        NaN   \n\n   has_test  response_letter_required   \n0     False                     False  \\\n1     False                     False   \n2     False                     False   \n3      True                     False   \n4     False                     False   \n\n                                                area   \n0  {'id': '2', 'name': 'Санкт-Петербург', 'url': ...  \\\n1  {'id': '88', 'name': 'Казань', 'url': 'https:/...   \n2  {'id': '1', 'name': 'Москва', 'url': 'https://...   \n3  {'id': '2', 'name': 'Санкт-Петербург', 'url': ...   \n4  {'id': '1', 'name': 'Москва', 'url': 'https://...   \n\n                                              salary   \n0  {'from': 140000, 'to': 240000, 'currency': 'RU...  \\\n1                                                NaN   \n2  {'from': 150000, 'to': None, 'currency': 'RUR'...   \n3                                                NaN   \n4  {'from': 250000, 'to': 350000, 'currency': 'RU...   \n\n                                 type  ...   \n0  {'id': 'open', 'name': 'Открытая'}  ...  \\\n1  {'id': 'open', 'name': 'Открытая'}  ...   \n2  {'id': 'open', 'name': 'Открытая'}  ...   \n3  {'id': 'open', 'name': 'Открытая'}  ...   \n4  {'id': 'open', 'name': 'Открытая'}  ...   \n\n                                            employer   \n0  {'id': '4295296', 'name': 'Софтвайс', 'url': '...  \\\n1  {'id': '6093775', 'name': 'Aston', 'url': 'htt...   \n2  {'id': '31034', 'name': 'Академсервис', 'url':...   \n3  {'id': '1244353', 'name': 'Playvision', 'url':...   \n4  {'id': '1870386', 'name': 'Like Центр', 'url':...   \n\n                                             snippet  contacts schedule   \n0  {'requirement': 'Опыт автоматизации тестов на ...       NaN      NaN  \\\n1  {'requirement': 'Хорошие знания теории тестиро...       NaN      NaN   \n2  {'requirement': 'Уверенные навыки тестирования...       NaN      NaN   \n3  {'requirement': 'Коммерческий опыт тестировани...       NaN      NaN   \n4  {'requirement': 'Минимальный опыт работы в сфе...       NaN      NaN   \n\n  working_days  working_time_intervals working_time_modes accept_temporary   \n0           []                      []                 []            False  \\\n1           []                      []                 []            False   \n2           []                      []                 []            False   \n3           []                      []                 []            False   \n4           []                      []                 []            False   \n\n                       professional_roles  accept_incomplete_resumes  \n0  [{'id': '124', 'name': 'Тестировщик'}]                      False  \n1  [{'id': '124', 'name': 'Тестировщик'}]                      False  \n2  [{'id': '124', 'name': 'Тестировщик'}]                      False  \n3  [{'id': '124', 'name': 'Тестировщик'}]                      False  \n4  [{'id': '124', 'name': 'Тестировщик'}]                      False  \n\n[5 rows x 32 columns]",
      "text/html": "<div>\n<style scoped>\n    .dataframe tbody tr th:only-of-type {\n        vertical-align: middle;\n    }\n\n    .dataframe tbody tr th {\n        vertical-align: top;\n    }\n\n    .dataframe thead th {\n        text-align: right;\n    }\n</style>\n<table border=\"1\" class=\"dataframe\">\n  <thead>\n    <tr style=\"text-align: right;\">\n      <th></th>\n      <th>Unnamed: 0</th>\n      <th>id</th>\n      <th>premium</th>\n      <th>name</th>\n      <th>department</th>\n      <th>has_test</th>\n      <th>response_letter_required</th>\n      <th>area</th>\n      <th>salary</th>\n      <th>type</th>\n      <th>...</th>\n      <th>employer</th>\n      <th>snippet</th>\n      <th>contacts</th>\n      <th>schedule</th>\n      <th>working_days</th>\n      <th>working_time_intervals</th>\n      <th>working_time_modes</th>\n      <th>accept_temporary</th>\n      <th>professional_roles</th>\n      <th>accept_incomplete_resumes</th>\n    </tr>\n  </thead>\n  <tbody>\n    <tr>\n      <th>0</th>\n      <td>0</td>\n      <td>78174707</td>\n      <td>False</td>\n      <td>QA Engineer/Тестировщик</td>\n      <td>NaN</td>\n      <td>False</td>\n      <td>False</td>\n      <td>{'id': '2', 'name': 'Санкт-Петербург', 'url': ...</td>\n      <td>{'from': 140000, 'to': 240000, 'currency': 'RU...</td>\n      <td>{'id': 'open', 'name': 'Открытая'}</td>\n      <td>...</td>\n      <td>{'id': '4295296', 'name': 'Софтвайс', 'url': '...</td>\n      <td>{'requirement': 'Опыт автоматизации тестов на ...</td>\n      <td>NaN</td>\n      <td>NaN</td>\n      <td>[]</td>\n      <td>[]</td>\n      <td>[]</td>\n      <td>False</td>\n      <td>[{'id': '124', 'name': 'Тестировщик'}]</td>\n      <td>False</td>\n    </tr>\n    <tr>\n      <th>1</th>\n      <td>1</td>\n      <td>79089868</td>\n      <td>False</td>\n      <td>QA Manual Trainee</td>\n      <td>NaN</td>\n      <td>False</td>\n      <td>False</td>\n      <td>{'id': '88', 'name': 'Казань', 'url': 'https:/...</td>\n      <td>NaN</td>\n      <td>{'id': 'open', 'name': 'Открытая'}</td>\n      <td>...</td>\n      <td>{'id': '6093775', 'name': 'Aston', 'url': 'htt...</td>\n      <td>{'requirement': 'Хорошие знания теории тестиро...</td>\n      <td>NaN</td>\n      <td>NaN</td>\n      <td>[]</td>\n      <td>[]</td>\n      <td>[]</td>\n      <td>False</td>\n      <td>[{'id': '124', 'name': 'Тестировщик'}]</td>\n      <td>False</td>\n    </tr>\n    <tr>\n      <th>2</th>\n      <td>2</td>\n      <td>79098994</td>\n      <td>False</td>\n      <td>Тестировщик ПО / QA engineer</td>\n      <td>NaN</td>\n      <td>False</td>\n      <td>False</td>\n      <td>{'id': '1', 'name': 'Москва', 'url': 'https://...</td>\n      <td>{'from': 150000, 'to': None, 'currency': 'RUR'...</td>\n      <td>{'id': 'open', 'name': 'Открытая'}</td>\n      <td>...</td>\n      <td>{'id': '31034', 'name': 'Академсервис', 'url':...</td>\n      <td>{'requirement': 'Уверенные навыки тестирования...</td>\n      <td>NaN</td>\n      <td>NaN</td>\n      <td>[]</td>\n      <td>[]</td>\n      <td>[]</td>\n      <td>False</td>\n      <td>[{'id': '124', 'name': 'Тестировщик'}]</td>\n      <td>False</td>\n    </tr>\n    <tr>\n      <th>3</th>\n      <td>3</td>\n      <td>79076732</td>\n      <td>False</td>\n      <td>Junior QA/Тестировщик ПО</td>\n      <td>NaN</td>\n      <td>True</td>\n      <td>False</td>\n      <td>{'id': '2', 'name': 'Санкт-Петербург', 'url': ...</td>\n      <td>NaN</td>\n      <td>{'id': 'open', 'name': 'Открытая'}</td>\n      <td>...</td>\n      <td>{'id': '1244353', 'name': 'Playvision', 'url':...</td>\n      <td>{'requirement': 'Коммерческий опыт тестировани...</td>\n      <td>NaN</td>\n      <td>NaN</td>\n      <td>[]</td>\n      <td>[]</td>\n      <td>[]</td>\n      <td>False</td>\n      <td>[{'id': '124', 'name': 'Тестировщик'}]</td>\n      <td>False</td>\n    </tr>\n    <tr>\n      <th>4</th>\n      <td>4</td>\n      <td>78585586</td>\n      <td>False</td>\n      <td>Lead QA</td>\n      <td>NaN</td>\n      <td>False</td>\n      <td>False</td>\n      <td>{'id': '1', 'name': 'Москва', 'url': 'https://...</td>\n      <td>{'from': 250000, 'to': 350000, 'currency': 'RU...</td>\n      <td>{'id': 'open', 'name': 'Открытая'}</td>\n      <td>...</td>\n      <td>{'id': '1870386', 'name': 'Like Центр', 'url':...</td>\n      <td>{'requirement': 'Минимальный опыт работы в сфе...</td>\n      <td>NaN</td>\n      <td>NaN</td>\n      <td>[]</td>\n      <td>[]</td>\n      <td>[]</td>\n      <td>False</td>\n      <td>[{'id': '124', 'name': 'Тестировщик'}]</td>\n      <td>False</td>\n    </tr>\n  </tbody>\n</table>\n<p>5 rows × 32 columns</p>\n</div>"
     },
     "execution_count": 36,
     "metadata": {},
     "output_type": "execute_result"
    }
   ],
   "source": [
    "df.head()"
   ],
   "metadata": {
    "collapsed": false,
    "ExecuteTime": {
     "start_time": "2023-04-10T18:20:54.549968Z",
     "end_time": "2023-04-10T18:20:54.566491Z"
    }
   }
  },
  {
   "cell_type": "code",
   "execution_count": 37,
   "outputs": [
    {
     "data": {
      "text/plain": "             id  premium                          name department  has_test   \nindex                                                                         \n0      78174707    False       QA Engineer/Тестировщик        NaN     False  \\\n1      79089868    False             QA Manual Trainee        NaN     False   \n2      79098994    False  Тестировщик ПО / QA engineer        NaN     False   \n3      79076732    False      Junior QA/Тестировщик ПО        NaN      True   \n4      78585586    False                       Lead QA        NaN     False   \n\n       response_letter_required   \nindex                             \n0                         False  \\\n1                         False   \n2                         False   \n3                         False   \n4                         False   \n\n                                                    area   \nindex                                                      \n0      {'id': '2', 'name': 'Санкт-Петербург', 'url': ...  \\\n1      {'id': '88', 'name': 'Казань', 'url': 'https:/...   \n2      {'id': '1', 'name': 'Москва', 'url': 'https://...   \n3      {'id': '2', 'name': 'Санкт-Петербург', 'url': ...   \n4      {'id': '1', 'name': 'Москва', 'url': 'https://...   \n\n                                                  salary   \nindex                                                      \n0      {'from': 140000, 'to': 240000, 'currency': 'RU...  \\\n1                                                    NaN   \n2      {'from': 150000, 'to': None, 'currency': 'RUR'...   \n3                                                    NaN   \n4      {'from': 250000, 'to': 350000, 'currency': 'RU...   \n\n                                     type   \nindex                                       \n0      {'id': 'open', 'name': 'Открытая'}  \\\n1      {'id': 'open', 'name': 'Открытая'}   \n2      {'id': 'open', 'name': 'Открытая'}   \n3      {'id': 'open', 'name': 'Открытая'}   \n4      {'id': 'open', 'name': 'Открытая'}   \n\n                                                 address  ...   \nindex                                                     ...   \n0      {'city': 'Санкт-Петербург', 'street': 'Чкаловс...  ...  \\\n1                                                    NaN  ...   \n2      {'city': 'Москва', 'street': 'Дербеневская наб...  ...   \n3      {'city': 'Санкт-Петербург', 'street': 'Беловод...  ...   \n4                                                    NaN  ...   \n\n                                                employer   \nindex                                                      \n0      {'id': '4295296', 'name': 'Софтвайс', 'url': '...  \\\n1      {'id': '6093775', 'name': 'Aston', 'url': 'htt...   \n2      {'id': '31034', 'name': 'Академсервис', 'url':...   \n3      {'id': '1244353', 'name': 'Playvision', 'url':...   \n4      {'id': '1870386', 'name': 'Like Центр', 'url':...   \n\n                                                 snippet contacts schedule   \nindex                                                                        \n0      {'requirement': 'Опыт автоматизации тестов на ...      NaN      NaN  \\\n1      {'requirement': 'Хорошие знания теории тестиро...      NaN      NaN   \n2      {'requirement': 'Уверенные навыки тестирования...      NaN      NaN   \n3      {'requirement': 'Коммерческий опыт тестировани...      NaN      NaN   \n4      {'requirement': 'Минимальный опыт работы в сфе...      NaN      NaN   \n\n       working_days working_time_intervals working_time_modes   \nindex                                                           \n0                []                     []                 []  \\\n1                []                     []                 []   \n2                []                     []                 []   \n3                []                     []                 []   \n4                []                     []                 []   \n\n      accept_temporary                      professional_roles   \nindex                                                            \n0                False  [{'id': '124', 'name': 'Тестировщик'}]  \\\n1                False  [{'id': '124', 'name': 'Тестировщик'}]   \n2                False  [{'id': '124', 'name': 'Тестировщик'}]   \n3                False  [{'id': '124', 'name': 'Тестировщик'}]   \n4                False  [{'id': '124', 'name': 'Тестировщик'}]   \n\n      accept_incomplete_resumes  \nindex                            \n0                         False  \n1                         False  \n2                         False  \n3                         False  \n4                         False  \n\n[5 rows x 31 columns]",
      "text/html": "<div>\n<style scoped>\n    .dataframe tbody tr th:only-of-type {\n        vertical-align: middle;\n    }\n\n    .dataframe tbody tr th {\n        vertical-align: top;\n    }\n\n    .dataframe thead th {\n        text-align: right;\n    }\n</style>\n<table border=\"1\" class=\"dataframe\">\n  <thead>\n    <tr style=\"text-align: right;\">\n      <th></th>\n      <th>id</th>\n      <th>premium</th>\n      <th>name</th>\n      <th>department</th>\n      <th>has_test</th>\n      <th>response_letter_required</th>\n      <th>area</th>\n      <th>salary</th>\n      <th>type</th>\n      <th>address</th>\n      <th>...</th>\n      <th>employer</th>\n      <th>snippet</th>\n      <th>contacts</th>\n      <th>schedule</th>\n      <th>working_days</th>\n      <th>working_time_intervals</th>\n      <th>working_time_modes</th>\n      <th>accept_temporary</th>\n      <th>professional_roles</th>\n      <th>accept_incomplete_resumes</th>\n    </tr>\n    <tr>\n      <th>index</th>\n      <th></th>\n      <th></th>\n      <th></th>\n      <th></th>\n      <th></th>\n      <th></th>\n      <th></th>\n      <th></th>\n      <th></th>\n      <th></th>\n      <th></th>\n      <th></th>\n      <th></th>\n      <th></th>\n      <th></th>\n      <th></th>\n      <th></th>\n      <th></th>\n      <th></th>\n      <th></th>\n      <th></th>\n    </tr>\n  </thead>\n  <tbody>\n    <tr>\n      <th>0</th>\n      <td>78174707</td>\n      <td>False</td>\n      <td>QA Engineer/Тестировщик</td>\n      <td>NaN</td>\n      <td>False</td>\n      <td>False</td>\n      <td>{'id': '2', 'name': 'Санкт-Петербург', 'url': ...</td>\n      <td>{'from': 140000, 'to': 240000, 'currency': 'RU...</td>\n      <td>{'id': 'open', 'name': 'Открытая'}</td>\n      <td>{'city': 'Санкт-Петербург', 'street': 'Чкаловс...</td>\n      <td>...</td>\n      <td>{'id': '4295296', 'name': 'Софтвайс', 'url': '...</td>\n      <td>{'requirement': 'Опыт автоматизации тестов на ...</td>\n      <td>NaN</td>\n      <td>NaN</td>\n      <td>[]</td>\n      <td>[]</td>\n      <td>[]</td>\n      <td>False</td>\n      <td>[{'id': '124', 'name': 'Тестировщик'}]</td>\n      <td>False</td>\n    </tr>\n    <tr>\n      <th>1</th>\n      <td>79089868</td>\n      <td>False</td>\n      <td>QA Manual Trainee</td>\n      <td>NaN</td>\n      <td>False</td>\n      <td>False</td>\n      <td>{'id': '88', 'name': 'Казань', 'url': 'https:/...</td>\n      <td>NaN</td>\n      <td>{'id': 'open', 'name': 'Открытая'}</td>\n      <td>NaN</td>\n      <td>...</td>\n      <td>{'id': '6093775', 'name': 'Aston', 'url': 'htt...</td>\n      <td>{'requirement': 'Хорошие знания теории тестиро...</td>\n      <td>NaN</td>\n      <td>NaN</td>\n      <td>[]</td>\n      <td>[]</td>\n      <td>[]</td>\n      <td>False</td>\n      <td>[{'id': '124', 'name': 'Тестировщик'}]</td>\n      <td>False</td>\n    </tr>\n    <tr>\n      <th>2</th>\n      <td>79098994</td>\n      <td>False</td>\n      <td>Тестировщик ПО / QA engineer</td>\n      <td>NaN</td>\n      <td>False</td>\n      <td>False</td>\n      <td>{'id': '1', 'name': 'Москва', 'url': 'https://...</td>\n      <td>{'from': 150000, 'to': None, 'currency': 'RUR'...</td>\n      <td>{'id': 'open', 'name': 'Открытая'}</td>\n      <td>{'city': 'Москва', 'street': 'Дербеневская наб...</td>\n      <td>...</td>\n      <td>{'id': '31034', 'name': 'Академсервис', 'url':...</td>\n      <td>{'requirement': 'Уверенные навыки тестирования...</td>\n      <td>NaN</td>\n      <td>NaN</td>\n      <td>[]</td>\n      <td>[]</td>\n      <td>[]</td>\n      <td>False</td>\n      <td>[{'id': '124', 'name': 'Тестировщик'}]</td>\n      <td>False</td>\n    </tr>\n    <tr>\n      <th>3</th>\n      <td>79076732</td>\n      <td>False</td>\n      <td>Junior QA/Тестировщик ПО</td>\n      <td>NaN</td>\n      <td>True</td>\n      <td>False</td>\n      <td>{'id': '2', 'name': 'Санкт-Петербург', 'url': ...</td>\n      <td>NaN</td>\n      <td>{'id': 'open', 'name': 'Открытая'}</td>\n      <td>{'city': 'Санкт-Петербург', 'street': 'Беловод...</td>\n      <td>...</td>\n      <td>{'id': '1244353', 'name': 'Playvision', 'url':...</td>\n      <td>{'requirement': 'Коммерческий опыт тестировани...</td>\n      <td>NaN</td>\n      <td>NaN</td>\n      <td>[]</td>\n      <td>[]</td>\n      <td>[]</td>\n      <td>False</td>\n      <td>[{'id': '124', 'name': 'Тестировщик'}]</td>\n      <td>False</td>\n    </tr>\n    <tr>\n      <th>4</th>\n      <td>78585586</td>\n      <td>False</td>\n      <td>Lead QA</td>\n      <td>NaN</td>\n      <td>False</td>\n      <td>False</td>\n      <td>{'id': '1', 'name': 'Москва', 'url': 'https://...</td>\n      <td>{'from': 250000, 'to': 350000, 'currency': 'RU...</td>\n      <td>{'id': 'open', 'name': 'Открытая'}</td>\n      <td>NaN</td>\n      <td>...</td>\n      <td>{'id': '1870386', 'name': 'Like Центр', 'url':...</td>\n      <td>{'requirement': 'Минимальный опыт работы в сфе...</td>\n      <td>NaN</td>\n      <td>NaN</td>\n      <td>[]</td>\n      <td>[]</td>\n      <td>[]</td>\n      <td>False</td>\n      <td>[{'id': '124', 'name': 'Тестировщик'}]</td>\n      <td>False</td>\n    </tr>\n  </tbody>\n</table>\n<p>5 rows × 31 columns</p>\n</div>"
     },
     "execution_count": 37,
     "metadata": {},
     "output_type": "execute_result"
    }
   ],
   "source": [
    "df.rename(columns={'Unnamed: 0' : 'index'}, inplace=True)\n",
    "df.set_index('index', inplace=True)\n",
    "df.head()"
   ],
   "metadata": {
    "collapsed": false,
    "ExecuteTime": {
     "start_time": "2023-04-10T18:20:54.575821Z",
     "end_time": "2023-04-10T18:20:54.580363Z"
    }
   }
  },
  {
   "cell_type": "code",
   "execution_count": 38,
   "outputs": [],
   "source": [
    "import ast\n",
    "\n",
    "salaries = df.salary.dropna()\n",
    "currencies = [ast.literal_eval(salaries.iloc[i])['currency'] for i in range(len(salaries))]\n",
    "curr = set(currencies) #{'EUR', 'RUR', 'USD'}\n",
    "\n",
    "rur = [ast.literal_eval(salaries.iloc[i]) for i in range(len(salaries)) if ast.literal_eval(salaries.iloc[i])['currency']=='RUR']\n",
    "eur = [ast.literal_eval(salaries.iloc[i]) for i in range(len(salaries)) if ast.literal_eval(salaries.iloc[i])['currency']=='EUR']\n",
    "usd = [ast.literal_eval(salaries.iloc[i]) for i in range(len(salaries)) if ast.literal_eval(salaries.iloc[i])['currency']=='USD']"
   ],
   "metadata": {
    "collapsed": false,
    "ExecuteTime": {
     "start_time": "2023-04-10T18:20:54.583366Z",
     "end_time": "2023-04-10T18:20:54.684510Z"
    }
   }
  },
  {
   "cell_type": "code",
   "execution_count": 39,
   "outputs": [
    {
     "name": "stdout",
     "output_type": "stream",
     "text": [
      "Средняя зарплата тестировщика 126339.2 рублей\n"
     ]
    }
   ],
   "source": [
    "fr = [x['from'] for x in rur] # lower range of salary\n",
    "fr = list(filter(lambda x: x is not None, fr)) # remove NA's from lower range [0, 100, 200,...]\n",
    "\n",
    "to = [x['to'] for x in rur] #upper range of salary\n",
    "to = list(filter(lambda x: x is not None, to)) #remove NA's from upper range [100, 200, 300,...]\n",
    "\n",
    "import numpy as np\n",
    "salary_range = list(zip(fr, to)) # concatenate upper and lower range  [(0,100), (100, 200), (200, 300)...]\n",
    "av = map(np.mean, salary_range) # convert [(0,100), (100, 200), (200, 300)...] to [50, 150, 250,...]\n",
    "av = round(np.mean(list(av)),1) # average value from [50, 150, 250,...]\n",
    "\n",
    "print(\"Средняя зарплата тестировщика\", av, \"рублей\")"
   ],
   "metadata": {
    "collapsed": false,
    "ExecuteTime": {
     "start_time": "2023-04-10T18:20:54.617810Z",
     "end_time": "2023-04-10T18:20:54.702599Z"
    }
   }
  }
 ],
 "metadata": {
  "kernelspec": {
   "display_name": "Python 3",
   "language": "python",
   "name": "python3"
  },
  "language_info": {
   "codemirror_mode": {
    "name": "ipython",
    "version": 2
   },
   "file_extension": ".py",
   "mimetype": "text/x-python",
   "name": "python",
   "nbconvert_exporter": "python",
   "pygments_lexer": "ipython2",
   "version": "2.7.6"
  }
 },
 "nbformat": 4,
 "nbformat_minor": 0
}
