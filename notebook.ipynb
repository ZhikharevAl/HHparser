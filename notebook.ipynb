{
 "cells": [
  {
   "cell_type": "code",
   "execution_count": 16,
   "metadata": {
    "collapsed": true
   },
   "outputs": [],
   "source": [
    "import pandas as pd"
   ]
  },
  {
   "cell_type": "code",
   "execution_count": 17,
   "outputs": [],
   "source": [
    "df = pd.read_csv(\"C:/Users/1/PycharmProjects/notebook/'QA' and 'Тестировщик'.csv\")"
   ],
   "metadata": {
    "collapsed": false,
    "pycharm": {
     "name": "#%%\n"
    }
   }
  },
  {
   "cell_type": "code",
   "execution_count": 18,
   "outputs": [
    {
     "data": {
      "text/plain": "   Unnamed: 0        id  premium  \\\n0           0  50485788    False   \n1           1  50442760     True   \n2           2  44909267    False   \n3           3  50479651    False   \n4           4  49823296    False   \n\n                                                name department  has_test  \\\n0                              Тестировщик, QA autom        NaN     False   \n1  QA Engineer на проект Kwork (ручное тестирование)        NaN     False   \n2  Младший инженер по качеству ПО / Junior QA Eng...        NaN      True   \n3                                     Тестировщик ПО        NaN     False   \n4                       QA Engineer / Тестировщик ПО        NaN      True   \n\n   response_letter_required  \\\n0                     False   \n1                     False   \n2                     False   \n3                     False   \n4                     False   \n\n                                                area  \\\n0  {'id': '1', 'name': 'Москва', 'url': 'https://...   \n1  {'id': '1', 'name': 'Москва', 'url': 'https://...   \n2  {'id': '2', 'name': 'Санкт-Петербург', 'url': ...   \n3  {'id': '1', 'name': 'Москва', 'url': 'https://...   \n4  {'id': '2', 'name': 'Санкт-Петербург', 'url': ...   \n\n                                              salary  \\\n0  {'from': 180000, 'to': 240000, 'currency': 'RU...   \n1  {'from': 140000, 'to': 160000, 'currency': 'RU...   \n2  {'from': 80000, 'to': 120000, 'currency': 'RUR...   \n3  {'from': 70000, 'to': 120000, 'currency': 'RUR...   \n4  {'from': 45000, 'to': 90000, 'currency': 'RUR'...   \n\n                                 type  ...                   alternate_url  \\\n0  {'id': 'open', 'name': 'Открытая'}  ...  https://hh.ru/vacancy/50485788   \n1  {'id': 'open', 'name': 'Открытая'}  ...  https://hh.ru/vacancy/50442760   \n2  {'id': 'open', 'name': 'Открытая'}  ...  https://hh.ru/vacancy/44909267   \n3  {'id': 'open', 'name': 'Открытая'}  ...  https://hh.ru/vacancy/50479651   \n4  {'id': 'open', 'name': 'Открытая'}  ...  https://hh.ru/vacancy/49823296   \n\n   relations                                           employer  \\\n0         []  {'id': '3649870', 'name': 'Right Line', 'url':...   \n1         []  {'id': '1207711', 'name': 'Мирафокс', 'url': '...   \n2         []  {'id': '15092', 'name': 'Veeam Software', 'url...   \n3         []  {'id': '4589539', 'name': 'Цифровая бухгалтери...   \n4         []  {'id': '3255952', 'name': 'Matryoshka Games', ...   \n\n                                             snippet contacts  \\\n0  {'requirement': 'Опыт в области автоматизации ...      NaN   \n1  {'requirement': 'Опыт работы <highlighttext>сп...      NaN   \n2  {'requirement': '...опытом в <highlighttext>QA...      NaN   \n3  {'requirement': 'Больше года работает в тестир...      NaN   \n4  {'requirement': 'Большой игровой опыт на мобил...      NaN   \n\n                                       schedule working_days  \\\n0  {'id': 'remote', 'name': 'Удаленная работа'}           []   \n1  {'id': 'remote', 'name': 'Удаленная работа'}           []   \n2   {'id': 'flexible', 'name': 'Гибкий график'}           []   \n3  {'id': 'remote', 'name': 'Удаленная работа'}           []   \n4  {'id': 'remote', 'name': 'Удаленная работа'}           []   \n\n  working_time_intervals working_time_modes accept_temporary  \n0                     []                 []            False  \n1                     []                 []            False  \n2                     []                 []            False  \n3                     []                 []            False  \n4                     []                 []            False  \n\n[5 rows x 29 columns]",
      "text/html": "<div>\n<style scoped>\n    .dataframe tbody tr th:only-of-type {\n        vertical-align: middle;\n    }\n\n    .dataframe tbody tr th {\n        vertical-align: top;\n    }\n\n    .dataframe thead th {\n        text-align: right;\n    }\n</style>\n<table border=\"1\" class=\"dataframe\">\n  <thead>\n    <tr style=\"text-align: right;\">\n      <th></th>\n      <th>Unnamed: 0</th>\n      <th>id</th>\n      <th>premium</th>\n      <th>name</th>\n      <th>department</th>\n      <th>has_test</th>\n      <th>response_letter_required</th>\n      <th>area</th>\n      <th>salary</th>\n      <th>type</th>\n      <th>...</th>\n      <th>alternate_url</th>\n      <th>relations</th>\n      <th>employer</th>\n      <th>snippet</th>\n      <th>contacts</th>\n      <th>schedule</th>\n      <th>working_days</th>\n      <th>working_time_intervals</th>\n      <th>working_time_modes</th>\n      <th>accept_temporary</th>\n    </tr>\n  </thead>\n  <tbody>\n    <tr>\n      <th>0</th>\n      <td>0</td>\n      <td>50485788</td>\n      <td>False</td>\n      <td>Тестировщик, QA autom</td>\n      <td>NaN</td>\n      <td>False</td>\n      <td>False</td>\n      <td>{'id': '1', 'name': 'Москва', 'url': 'https://...</td>\n      <td>{'from': 180000, 'to': 240000, 'currency': 'RU...</td>\n      <td>{'id': 'open', 'name': 'Открытая'}</td>\n      <td>...</td>\n      <td>https://hh.ru/vacancy/50485788</td>\n      <td>[]</td>\n      <td>{'id': '3649870', 'name': 'Right Line', 'url':...</td>\n      <td>{'requirement': 'Опыт в области автоматизации ...</td>\n      <td>NaN</td>\n      <td>{'id': 'remote', 'name': 'Удаленная работа'}</td>\n      <td>[]</td>\n      <td>[]</td>\n      <td>[]</td>\n      <td>False</td>\n    </tr>\n    <tr>\n      <th>1</th>\n      <td>1</td>\n      <td>50442760</td>\n      <td>True</td>\n      <td>QA Engineer на проект Kwork (ручное тестирование)</td>\n      <td>NaN</td>\n      <td>False</td>\n      <td>False</td>\n      <td>{'id': '1', 'name': 'Москва', 'url': 'https://...</td>\n      <td>{'from': 140000, 'to': 160000, 'currency': 'RU...</td>\n      <td>{'id': 'open', 'name': 'Открытая'}</td>\n      <td>...</td>\n      <td>https://hh.ru/vacancy/50442760</td>\n      <td>[]</td>\n      <td>{'id': '1207711', 'name': 'Мирафокс', 'url': '...</td>\n      <td>{'requirement': 'Опыт работы &lt;highlighttext&gt;сп...</td>\n      <td>NaN</td>\n      <td>{'id': 'remote', 'name': 'Удаленная работа'}</td>\n      <td>[]</td>\n      <td>[]</td>\n      <td>[]</td>\n      <td>False</td>\n    </tr>\n    <tr>\n      <th>2</th>\n      <td>2</td>\n      <td>44909267</td>\n      <td>False</td>\n      <td>Младший инженер по качеству ПО / Junior QA Eng...</td>\n      <td>NaN</td>\n      <td>True</td>\n      <td>False</td>\n      <td>{'id': '2', 'name': 'Санкт-Петербург', 'url': ...</td>\n      <td>{'from': 80000, 'to': 120000, 'currency': 'RUR...</td>\n      <td>{'id': 'open', 'name': 'Открытая'}</td>\n      <td>...</td>\n      <td>https://hh.ru/vacancy/44909267</td>\n      <td>[]</td>\n      <td>{'id': '15092', 'name': 'Veeam Software', 'url...</td>\n      <td>{'requirement': '...опытом в &lt;highlighttext&gt;QA...</td>\n      <td>NaN</td>\n      <td>{'id': 'flexible', 'name': 'Гибкий график'}</td>\n      <td>[]</td>\n      <td>[]</td>\n      <td>[]</td>\n      <td>False</td>\n    </tr>\n    <tr>\n      <th>3</th>\n      <td>3</td>\n      <td>50479651</td>\n      <td>False</td>\n      <td>Тестировщик ПО</td>\n      <td>NaN</td>\n      <td>False</td>\n      <td>False</td>\n      <td>{'id': '1', 'name': 'Москва', 'url': 'https://...</td>\n      <td>{'from': 70000, 'to': 120000, 'currency': 'RUR...</td>\n      <td>{'id': 'open', 'name': 'Открытая'}</td>\n      <td>...</td>\n      <td>https://hh.ru/vacancy/50479651</td>\n      <td>[]</td>\n      <td>{'id': '4589539', 'name': 'Цифровая бухгалтери...</td>\n      <td>{'requirement': 'Больше года работает в тестир...</td>\n      <td>NaN</td>\n      <td>{'id': 'remote', 'name': 'Удаленная работа'}</td>\n      <td>[]</td>\n      <td>[]</td>\n      <td>[]</td>\n      <td>False</td>\n    </tr>\n    <tr>\n      <th>4</th>\n      <td>4</td>\n      <td>49823296</td>\n      <td>False</td>\n      <td>QA Engineer / Тестировщик ПО</td>\n      <td>NaN</td>\n      <td>True</td>\n      <td>False</td>\n      <td>{'id': '2', 'name': 'Санкт-Петербург', 'url': ...</td>\n      <td>{'from': 45000, 'to': 90000, 'currency': 'RUR'...</td>\n      <td>{'id': 'open', 'name': 'Открытая'}</td>\n      <td>...</td>\n      <td>https://hh.ru/vacancy/49823296</td>\n      <td>[]</td>\n      <td>{'id': '3255952', 'name': 'Matryoshka Games', ...</td>\n      <td>{'requirement': 'Большой игровой опыт на мобил...</td>\n      <td>NaN</td>\n      <td>{'id': 'remote', 'name': 'Удаленная работа'}</td>\n      <td>[]</td>\n      <td>[]</td>\n      <td>[]</td>\n      <td>False</td>\n    </tr>\n  </tbody>\n</table>\n<p>5 rows × 29 columns</p>\n</div>"
     },
     "execution_count": 18,
     "metadata": {},
     "output_type": "execute_result"
    }
   ],
   "source": [
    "df.head()"
   ],
   "metadata": {
    "collapsed": false,
    "pycharm": {
     "name": "#%%\n"
    }
   }
  },
  {
   "cell_type": "code",
   "execution_count": 19,
   "outputs": [
    {
     "data": {
      "text/plain": "             id  premium                                               name  \\\nindex                                                                         \n0      50485788    False                              Тестировщик, QA autom   \n1      50442760     True  QA Engineer на проект Kwork (ручное тестирование)   \n2      44909267    False  Младший инженер по качеству ПО / Junior QA Eng...   \n3      50479651    False                                     Тестировщик ПО   \n4      49823296    False                       QA Engineer / Тестировщик ПО   \n\n      department  has_test  response_letter_required  \\\nindex                                                  \n0            NaN     False                     False   \n1            NaN     False                     False   \n2            NaN      True                     False   \n3            NaN     False                     False   \n4            NaN      True                     False   \n\n                                                    area  \\\nindex                                                      \n0      {'id': '1', 'name': 'Москва', 'url': 'https://...   \n1      {'id': '1', 'name': 'Москва', 'url': 'https://...   \n2      {'id': '2', 'name': 'Санкт-Петербург', 'url': ...   \n3      {'id': '1', 'name': 'Москва', 'url': 'https://...   \n4      {'id': '2', 'name': 'Санкт-Петербург', 'url': ...   \n\n                                                  salary  \\\nindex                                                      \n0      {'from': 180000, 'to': 240000, 'currency': 'RU...   \n1      {'from': 140000, 'to': 160000, 'currency': 'RU...   \n2      {'from': 80000, 'to': 120000, 'currency': 'RUR...   \n3      {'from': 70000, 'to': 120000, 'currency': 'RUR...   \n4      {'from': 45000, 'to': 90000, 'currency': 'RUR'...   \n\n                                     type  \\\nindex                                       \n0      {'id': 'open', 'name': 'Открытая'}   \n1      {'id': 'open', 'name': 'Открытая'}   \n2      {'id': 'open', 'name': 'Открытая'}   \n3      {'id': 'open', 'name': 'Открытая'}   \n4      {'id': 'open', 'name': 'Открытая'}   \n\n                                                 address  ...  \\\nindex                                                     ...   \n0      {'city': 'Москва', 'street': 'Варшавское шоссе...  ...   \n1                                                    NaN  ...   \n2                                                    NaN  ...   \n3                                                    NaN  ...   \n4                                                    NaN  ...   \n\n                        alternate_url  relations  \\\nindex                                              \n0      https://hh.ru/vacancy/50485788         []   \n1      https://hh.ru/vacancy/50442760         []   \n2      https://hh.ru/vacancy/44909267         []   \n3      https://hh.ru/vacancy/50479651         []   \n4      https://hh.ru/vacancy/49823296         []   \n\n                                                employer  \\\nindex                                                      \n0      {'id': '3649870', 'name': 'Right Line', 'url':...   \n1      {'id': '1207711', 'name': 'Мирафокс', 'url': '...   \n2      {'id': '15092', 'name': 'Veeam Software', 'url...   \n3      {'id': '4589539', 'name': 'Цифровая бухгалтери...   \n4      {'id': '3255952', 'name': 'Matryoshka Games', ...   \n\n                                                 snippet  contacts  \\\nindex                                                                \n0      {'requirement': 'Опыт в области автоматизации ...       NaN   \n1      {'requirement': 'Опыт работы <highlighttext>сп...       NaN   \n2      {'requirement': '...опытом в <highlighttext>QA...       NaN   \n3      {'requirement': 'Больше года работает в тестир...       NaN   \n4      {'requirement': 'Большой игровой опыт на мобил...       NaN   \n\n                                           schedule working_days  \\\nindex                                                              \n0      {'id': 'remote', 'name': 'Удаленная работа'}           []   \n1      {'id': 'remote', 'name': 'Удаленная работа'}           []   \n2       {'id': 'flexible', 'name': 'Гибкий график'}           []   \n3      {'id': 'remote', 'name': 'Удаленная работа'}           []   \n4      {'id': 'remote', 'name': 'Удаленная работа'}           []   \n\n      working_time_intervals working_time_modes accept_temporary  \nindex                                                             \n0                         []                 []            False  \n1                         []                 []            False  \n2                         []                 []            False  \n3                         []                 []            False  \n4                         []                 []            False  \n\n[5 rows x 28 columns]",
      "text/html": "<div>\n<style scoped>\n    .dataframe tbody tr th:only-of-type {\n        vertical-align: middle;\n    }\n\n    .dataframe tbody tr th {\n        vertical-align: top;\n    }\n\n    .dataframe thead th {\n        text-align: right;\n    }\n</style>\n<table border=\"1\" class=\"dataframe\">\n  <thead>\n    <tr style=\"text-align: right;\">\n      <th></th>\n      <th>id</th>\n      <th>premium</th>\n      <th>name</th>\n      <th>department</th>\n      <th>has_test</th>\n      <th>response_letter_required</th>\n      <th>area</th>\n      <th>salary</th>\n      <th>type</th>\n      <th>address</th>\n      <th>...</th>\n      <th>alternate_url</th>\n      <th>relations</th>\n      <th>employer</th>\n      <th>snippet</th>\n      <th>contacts</th>\n      <th>schedule</th>\n      <th>working_days</th>\n      <th>working_time_intervals</th>\n      <th>working_time_modes</th>\n      <th>accept_temporary</th>\n    </tr>\n    <tr>\n      <th>index</th>\n      <th></th>\n      <th></th>\n      <th></th>\n      <th></th>\n      <th></th>\n      <th></th>\n      <th></th>\n      <th></th>\n      <th></th>\n      <th></th>\n      <th></th>\n      <th></th>\n      <th></th>\n      <th></th>\n      <th></th>\n      <th></th>\n      <th></th>\n      <th></th>\n      <th></th>\n      <th></th>\n      <th></th>\n    </tr>\n  </thead>\n  <tbody>\n    <tr>\n      <th>0</th>\n      <td>50485788</td>\n      <td>False</td>\n      <td>Тестировщик, QA autom</td>\n      <td>NaN</td>\n      <td>False</td>\n      <td>False</td>\n      <td>{'id': '1', 'name': 'Москва', 'url': 'https://...</td>\n      <td>{'from': 180000, 'to': 240000, 'currency': 'RU...</td>\n      <td>{'id': 'open', 'name': 'Открытая'}</td>\n      <td>{'city': 'Москва', 'street': 'Варшавское шоссе...</td>\n      <td>...</td>\n      <td>https://hh.ru/vacancy/50485788</td>\n      <td>[]</td>\n      <td>{'id': '3649870', 'name': 'Right Line', 'url':...</td>\n      <td>{'requirement': 'Опыт в области автоматизации ...</td>\n      <td>NaN</td>\n      <td>{'id': 'remote', 'name': 'Удаленная работа'}</td>\n      <td>[]</td>\n      <td>[]</td>\n      <td>[]</td>\n      <td>False</td>\n    </tr>\n    <tr>\n      <th>1</th>\n      <td>50442760</td>\n      <td>True</td>\n      <td>QA Engineer на проект Kwork (ручное тестирование)</td>\n      <td>NaN</td>\n      <td>False</td>\n      <td>False</td>\n      <td>{'id': '1', 'name': 'Москва', 'url': 'https://...</td>\n      <td>{'from': 140000, 'to': 160000, 'currency': 'RU...</td>\n      <td>{'id': 'open', 'name': 'Открытая'}</td>\n      <td>NaN</td>\n      <td>...</td>\n      <td>https://hh.ru/vacancy/50442760</td>\n      <td>[]</td>\n      <td>{'id': '1207711', 'name': 'Мирафокс', 'url': '...</td>\n      <td>{'requirement': 'Опыт работы &lt;highlighttext&gt;сп...</td>\n      <td>NaN</td>\n      <td>{'id': 'remote', 'name': 'Удаленная работа'}</td>\n      <td>[]</td>\n      <td>[]</td>\n      <td>[]</td>\n      <td>False</td>\n    </tr>\n    <tr>\n      <th>2</th>\n      <td>44909267</td>\n      <td>False</td>\n      <td>Младший инженер по качеству ПО / Junior QA Eng...</td>\n      <td>NaN</td>\n      <td>True</td>\n      <td>False</td>\n      <td>{'id': '2', 'name': 'Санкт-Петербург', 'url': ...</td>\n      <td>{'from': 80000, 'to': 120000, 'currency': 'RUR...</td>\n      <td>{'id': 'open', 'name': 'Открытая'}</td>\n      <td>NaN</td>\n      <td>...</td>\n      <td>https://hh.ru/vacancy/44909267</td>\n      <td>[]</td>\n      <td>{'id': '15092', 'name': 'Veeam Software', 'url...</td>\n      <td>{'requirement': '...опытом в &lt;highlighttext&gt;QA...</td>\n      <td>NaN</td>\n      <td>{'id': 'flexible', 'name': 'Гибкий график'}</td>\n      <td>[]</td>\n      <td>[]</td>\n      <td>[]</td>\n      <td>False</td>\n    </tr>\n    <tr>\n      <th>3</th>\n      <td>50479651</td>\n      <td>False</td>\n      <td>Тестировщик ПО</td>\n      <td>NaN</td>\n      <td>False</td>\n      <td>False</td>\n      <td>{'id': '1', 'name': 'Москва', 'url': 'https://...</td>\n      <td>{'from': 70000, 'to': 120000, 'currency': 'RUR...</td>\n      <td>{'id': 'open', 'name': 'Открытая'}</td>\n      <td>NaN</td>\n      <td>...</td>\n      <td>https://hh.ru/vacancy/50479651</td>\n      <td>[]</td>\n      <td>{'id': '4589539', 'name': 'Цифровая бухгалтери...</td>\n      <td>{'requirement': 'Больше года работает в тестир...</td>\n      <td>NaN</td>\n      <td>{'id': 'remote', 'name': 'Удаленная работа'}</td>\n      <td>[]</td>\n      <td>[]</td>\n      <td>[]</td>\n      <td>False</td>\n    </tr>\n    <tr>\n      <th>4</th>\n      <td>49823296</td>\n      <td>False</td>\n      <td>QA Engineer / Тестировщик ПО</td>\n      <td>NaN</td>\n      <td>True</td>\n      <td>False</td>\n      <td>{'id': '2', 'name': 'Санкт-Петербург', 'url': ...</td>\n      <td>{'from': 45000, 'to': 90000, 'currency': 'RUR'...</td>\n      <td>{'id': 'open', 'name': 'Открытая'}</td>\n      <td>NaN</td>\n      <td>...</td>\n      <td>https://hh.ru/vacancy/49823296</td>\n      <td>[]</td>\n      <td>{'id': '3255952', 'name': 'Matryoshka Games', ...</td>\n      <td>{'requirement': 'Большой игровой опыт на мобил...</td>\n      <td>NaN</td>\n      <td>{'id': 'remote', 'name': 'Удаленная работа'}</td>\n      <td>[]</td>\n      <td>[]</td>\n      <td>[]</td>\n      <td>False</td>\n    </tr>\n  </tbody>\n</table>\n<p>5 rows × 28 columns</p>\n</div>"
     },
     "execution_count": 19,
     "metadata": {},
     "output_type": "execute_result"
    }
   ],
   "source": [
    "df.rename(columns={'Unnamed: 0' : 'index'}, inplace=True)\n",
    "df.set_index('index', inplace=True)\n",
    "df.head()"
   ],
   "metadata": {
    "collapsed": false,
    "pycharm": {
     "name": "#%%\n"
    }
   }
  },
  {
   "cell_type": "code",
   "execution_count": 20,
   "outputs": [],
   "source": [
    "import ast\n",
    "\n",
    "salaries = df.salary.dropna()\n",
    "currencies = [ast.literal_eval(salaries.iloc[i])['currency'] for i in range(len(salaries))]\n",
    "curr = set(currencies) #{'EUR', 'RUR', 'USD'}\n",
    "\n",
    "rur = [ast.literal_eval(salaries.iloc[i]) for i in range(len(salaries)) if ast.literal_eval(salaries.iloc[i])['currency']=='RUR']\n",
    "eur = [ast.literal_eval(salaries.iloc[i]) for i in range(len(salaries)) if ast.literal_eval(salaries.iloc[i])['currency']=='EUR']\n",
    "usd = [ast.literal_eval(salaries.iloc[i]) for i in range(len(salaries)) if ast.literal_eval(salaries.iloc[i])['currency']=='USD']"
   ],
   "metadata": {
    "collapsed": false,
    "pycharm": {
     "name": "#%%\n"
    }
   }
  },
  {
   "cell_type": "code",
   "execution_count": 21,
   "outputs": [
    {
     "name": "stdout",
     "output_type": "stream",
     "text": [
      "Средняя зарплата тестировщика 120002.5 рублей\n"
     ]
    }
   ],
   "source": [
    "fr = [x['from'] for x in rur] # lower range of salary\n",
    "fr = list(filter(lambda x: x is not None, fr)) # remove NA's from lower range [0, 100, 200,...]\n",
    "\n",
    "to = [x['to'] for x in rur] #upper range of salary\n",
    "to = list(filter(lambda x: x is not None, to)) #remove NA's from upper range [100, 200, 300,...]\n",
    "\n",
    "import numpy as np\n",
    "salary_range = list(zip(fr, to)) # concatenate upper and lower range  [(0,100), (100, 200), (200, 300)...]\n",
    "av = map(np.mean, salary_range) # convert [(0,100), (100, 200), (200, 300)...] to [50, 150, 250,...]\n",
    "av = round(np.mean(list(av)),1) # average value from [50, 150, 250,...]\n",
    "\n",
    "print(\"Средняя зарплата тестировщика\", av, \"рублей\")"
   ],
   "metadata": {
    "collapsed": false,
    "pycharm": {
     "name": "#%%\n"
    }
   }
  }
 ],
 "metadata": {
  "kernelspec": {
   "display_name": "Python 3",
   "language": "python",
   "name": "python3"
  },
  "language_info": {
   "codemirror_mode": {
    "name": "ipython",
    "version": 2
   },
   "file_extension": ".py",
   "mimetype": "text/x-python",
   "name": "python",
   "nbconvert_exporter": "python",
   "pygments_lexer": "ipython2",
   "version": "2.7.6"
  }
 },
 "nbformat": 4,
 "nbformat_minor": 0
}